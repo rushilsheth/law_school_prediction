{
 "cells": [
  {
   "cell_type": "code",
   "execution_count": 1,
   "metadata": {},
   "outputs": [],
   "source": [
    "# imports\n",
    "import datetime\n",
    "import boto3\n",
    "import time\n",
    "import pandas as pd\n",
    "import numpy as np\n",
    "from xgboost import XGBClassifier\n",
    "import plotly.express as px\n",
    "import io\n",
    "import datetime\n",
    "from sklearn.metrics import f1_score\n",
    "from sklearn.metrics import log_loss\n",
    "from imblearn.over_sampling import SMOTE\n",
    "from imblearn.over_sampling import SMOTENC\n",
    "import matplotlib.pyplot as plt\n",
    "import seaborn as sns"
   ]
  },
  {
   "cell_type": "code",
   "execution_count": 2,
   "metadata": {},
   "outputs": [],
   "source": [
    "def load_data(): \n",
    "    s3 = boto3.client('s3') # comment out when on local\n",
    "    obj = s3.get_object(Bucket = 'lawyer-predict', Key = 'df.csv')\n",
    "    data_fnc = pd.read_csv(io.BytesIO(obj['Body'].read()))\n",
    "\n",
    "    s3_bucket_stuff = boto3.resource('s3')\n",
    "    bucket = s3_bucket_stuff.Bucket('lawyer-predict')    \n",
    "    for file in bucket.objects.all():    \n",
    "        file_date = file.last_modified.replace(tzinfo=None)\n",
    "    \n",
    "    return data_fnc, file_date\n",
    "\n",
    "data_orig, date_modified = load_data()\n",
    "\n",
    "data = data_orig.copy()\n",
    "\n",
    "#categorize decisions as acceptance as 1 , waitlisted as 2 or denied as 0\n",
    "data.loc[data.decision.isin(['Accepted', 'Accepted Attending', 'Accepted Deferred', 'Accepted Deferred Attending', 'Accepted Deferred Withdrawn', 'Accepted Withdrawn']), 'decision_numeric'] = 1\n",
    "\n",
    "data.loc[data.decision.isin(['Rejected', 'Rejected Attending', 'Rejected Deferred', 'Rejected Withdrawn']), 'decision_numeric'] = 0\n",
    "\n",
    "data.loc[data.decision.isin(['WL Accepted', 'WL Accepted Attending', 'WL Accepted Deferred', 'WL Accepted Deferred Attending', 'WL Accepted Withdrawn', 'WL Rejected', 'WL Rejected Deferred', 'WL Rejected Withdrawn', 'WL Withdrawn', 'Waitlisted', 'Waitlisted Attending', 'Waitlisted Deferred', 'Waitlisted Withdrawn']), 'decision_numeric'] = 2\n",
    "\n",
    "data.loc[data.decision.isin(['Intend to Apply', 'Intend to Apply Attending', 'Intend to Apply Deferred Withdrawn', 'Intend to Apply Withdrawn', 'Pending', 'Pending Attending', 'Pending Deferred', 'Pending Deferred Withdrawn', 'Pending Withdrawn']), 'decision_numeric'] = np.nan\n",
    "\n",
    "data = data.loc[~data.decision_numeric.isna()]\n",
    "#drop where job experience not given\n",
    "data = data.loc[data.work_experience != '?']\n",
    "#label encode work experience\n",
    "data.loc[data.work_experience == '0 years (KJD)', 'work_experience_encode'] = 0\n",
    "data.loc[data.work_experience == '1-4 years', 'work_experience_encode'] = 1\n",
    "data.loc[data.work_experience == '5-9 years', 'work_experience_encode'] = 2\n",
    "data.loc[data.work_experience == '10+ years', 'work_experience_encode'] = 3"
   ]
  },
  {
   "cell_type": "code",
   "execution_count": 3,
   "metadata": {},
   "outputs": [],
   "source": [
    "#build and test models based on Vandy\n",
    "\n",
    "school_name = 'Vanderbilt University'\n",
    "school_orig = data.loc[data.school == school_name][['decision_numeric', 'gpa', 'lsat', 'urm', 'work_experience_encode', 'cycleid']].dropna().reset_index()\n",
    "school_orig = school_orig.drop('index', axis = 1)"
   ]
  },
  {
   "cell_type": "code",
   "execution_count": 4,
   "metadata": {},
   "outputs": [
    {
     "name": "stdout",
     "output_type": "stream",
     "text": [
      "(1355, 5)\n",
      "0.6229508196721312\n",
      "1.0031850252025685\n"
     ]
    }
   ],
   "source": [
    "#baseline model\n",
    "baseline_train = school_orig.loc[school_orig.cycleid != 17]\n",
    "#baseline_train_y = baseline_train.decision_numeric.reset_index()\n",
    "baseline_train_y = baseline_train.decision_numeric\n",
    "\n",
    "baseline_train_x = baseline_train.drop('decision_numeric', axis =1)\n",
    "\n",
    "baseline_test = school_orig.loc[school_orig.cycleid == 17] \n",
    "baseline_test_y = baseline_test.decision_numeric\n",
    "baseline_test_x = baseline_test.drop('decision_numeric', axis =1)\n",
    "\n",
    "print(baseline_train_x.shape)\n",
    "\n",
    "xgb_baseline = XGBClassifier(num_classes = 3, random_state = 12)\n",
    "# preds are gpa, lsat, urm, work_experience, \n",
    "xgb_baseline.fit(baseline_train_x, baseline_train_y)\n",
    "\n",
    "f1_score_list = []\n",
    "log_loss_list = []\n",
    "\n",
    "f1_score_baseline = f1_score(baseline_test_y, xgb_baseline.predict(baseline_test_x), average = 'micro')\n",
    "log_loss_baseline = log_loss(baseline_test_y, xgb_baseline.predict_proba(baseline_test_x))\n",
    "\n",
    "f1_score_list.append(f1_score_baseline)\n",
    "log_loss_list.append(log_loss_baseline)\n",
    "\n",
    "print(f1_score_baseline)\n",
    "print(log_loss_baseline)"
   ]
  },
  {
   "cell_type": "code",
   "execution_count": 5,
   "metadata": {},
   "outputs": [
    {
     "name": "stdout",
     "output_type": "stream",
     "text": [
      "(2261, 5)\n",
      "0.639344262295082\n",
      "1.0319778619669988\n"
     ]
    }
   ],
   "source": [
    "#duplicate rows for training\n",
    "cycle16_indicies = baseline_train_x.loc[baseline_train_x.cycleid==16].index\n",
    "df_cycle16_train = baseline_train_x.iloc[cycle16_indicies]\n",
    "baseline_train_x = baseline_train_x.append(baseline_train_x.iloc[cycle16_indicies],ignore_index=True)\n",
    "baseline_train_x = baseline_train_x.append(baseline_train_x.iloc[cycle16_indicies],ignore_index=True)\n",
    "baseline_train_x = baseline_train_x.append(baseline_train_x.iloc[cycle16_indicies],ignore_index=True)\n",
    "\n",
    "baseline_train_y = baseline_train_y.append(baseline_train_y.iloc[cycle16_indicies],ignore_index=True)\n",
    "baseline_train_y = baseline_train_y.append(baseline_train_y.iloc[cycle16_indicies],ignore_index=True)\n",
    "baseline_train_y = baseline_train_y.append(baseline_train_y.iloc[cycle16_indicies],ignore_index=True)\n",
    "\n",
    "print(baseline_train_x.shape)\n",
    "xgb_duplicate = XGBClassifier(num_classes = 3, random_state = 12)\n",
    "# preds are gpa, lsat, urm, work_experience, \n",
    "xgb_duplicate.fit(baseline_train_x, baseline_train_y)\n",
    "\n",
    "f1_score_duplicate = f1_score(baseline_test_y, xgb_duplicate.predict(baseline_test_x), average = 'micro')\n",
    "log_loss_duplicate = log_loss(baseline_test_y, xgb_duplicate.predict_proba(baseline_test_x))\n",
    "\n",
    "f1_score_list.append(f1_score_duplicate)\n",
    "log_loss_list.append(log_loss_duplicate)\n",
    "\n",
    "print(f1_score_duplicate)\n",
    "print(log_loss_duplicate)"
   ]
  },
  {
   "cell_type": "markdown",
   "metadata": {},
   "source": [
    "# SMOTE"
   ]
  },
  {
   "cell_type": "code",
   "execution_count": 6,
   "metadata": {},
   "outputs": [
    {
     "name": "stdout",
     "output_type": "stream",
     "text": [
      "0.6065573770491803\n",
      "1.041658621479864\n"
     ]
    },
    {
     "name": "stderr",
     "output_type": "stream",
     "text": [
      "/Users/rushilsheth/anaconda3/lib/python3.7/site-packages/imblearn/utils/_validation.py:253: UserWarning:\n",
      "\n",
      "After over-sampling, the number of samples (604) in class 16 will be larger than the number of samples in the majority class (class #15 -> 407)\n",
      "\n"
     ]
    }
   ],
   "source": [
    "cycle17_test = school_orig.loc[school_orig.cycleid == 17] # DONT TOUCH\n",
    "cycle17_train = school_orig.loc[school_orig.cycleid != 17]\n",
    "\n",
    "smote_cycle_y = cycle17_train['cycleid']#.to_numpy()\n",
    "smote_cycle_x = cycle17_train.drop('cycleid', axis = 1)#.to_numpy()\n",
    "\n",
    "samp_dict = {}\n",
    "\n",
    "for cycle_id_smote in np.unique(smote_cycle_y):\n",
    "    samp_dict[cycle_id_smote] = smote_cycle_y[smote_cycle_y==cycle_id_smote].shape[0]\n",
    "\n",
    "samp_dict[np.max(smote_cycle_y)] = samp_dict[np.max(smote_cycle_y)]*2\n",
    "oversample = SMOTE(sampling_strategy = samp_dict)\n",
    "\n",
    "\n",
    "X_up, y_up = oversample.fit_resample(smote_cycle_x,smote_cycle_y)\n",
    "\n",
    "df_resample_train = pd.DataFrame(X_up,columns = smote_cycle_x.columns)\n",
    "\n",
    "vandy_2018_cycle_train = df_resample_train #vandy_2018_cycle_train.append([df_cycle16]*3,ignore_index=True)\n",
    "# #SMOTE INSTEAD\n",
    "\n",
    "\n",
    "school_y = vandy_2018_cycle_train['decision_numeric'].to_numpy()\n",
    "school_X = vandy_2018_cycle_train.drop(['decision_numeric'], axis = 1).to_numpy()\n",
    "\n",
    "\n",
    "test_y = cycle17_test['decision_numeric'].to_numpy()\n",
    "test_x = cycle17_test.drop(['decision_numeric', 'cycleid'], axis = 1).to_numpy()\n",
    "\n",
    "\n",
    "xgb_smote = XGBClassifier(num_classes = 3, random_state = 12)\n",
    "# # preds are gpa, lsat, urm, work_experience, \n",
    "xgb_smote.fit(school_X, np.round(school_y+.49))\n",
    "\n",
    "f1_score_smote = f1_score(test_y, xgb_smote.predict(test_x), average = 'micro')\n",
    "log_loss_smote = log_loss(test_y, xgb_smote.predict_proba(test_x))\n",
    "\n",
    "f1_score_list.append(f1_score_smote)\n",
    "log_loss_list.append(log_loss_smote)\n",
    "\n",
    "print(f1_score_smote)\n",
    "print(log_loss_smote)"
   ]
  },
  {
   "cell_type": "code",
   "execution_count": 7,
   "metadata": {},
   "outputs": [
    {
     "name": "stderr",
     "output_type": "stream",
     "text": [
      "/Users/rushilsheth/anaconda3/lib/python3.7/site-packages/imblearn/utils/_validation.py:253: UserWarning:\n",
      "\n",
      "After over-sampling, the number of samples (604) in class 16 will be larger than the number of samples in the majority class (class #15 -> 407)\n",
      "\n"
     ]
    },
    {
     "name": "stdout",
     "output_type": "stream",
     "text": [
      "0.6229508196721312\n",
      "1.045362403914027\n"
     ]
    }
   ],
   "source": [
    "# smotenc on cycle\n",
    "\n",
    "cycle17_test_smotenc = school_orig.loc[school_orig.cycleid == 17] # DONT TOUCH\n",
    "cycle17_train_smotenc = school_orig.loc[school_orig.cycleid != 17]\n",
    "\n",
    "samp_dict = {}\n",
    "\n",
    "for cycle_id_smote in np.unique(smote_cycle_y):\n",
    "    samp_dict[cycle_id_smote] = smote_cycle_y[smote_cycle_y==cycle_id_smote].shape[0]\n",
    "samp_dict[np.max(smote_cycle_y)] = samp_dict[np.max(smote_cycle_y)]*2\n",
    "oversample = SMOTENC(sampling_strategy = samp_dict, categorical_features = [0,3,4])\n",
    "\n",
    "smotenc_cycle_y = cycle17_train_smotenc.cycleid\n",
    "smotenc_cycle_x = cycle17_train_smotenc.drop('cycleid', axis = 1)\n",
    "\n",
    "\n",
    "X_up, y_up = oversample.fit_resample(smotenc_cycle_x,smotenc_cycle_y)\n",
    "\n",
    "df_resample_train = pd.DataFrame(X_up,columns = smotenc_cycle_x.columns)\n",
    "\n",
    "smote_2_y = df_resample_train['decision_numeric'].to_numpy()\n",
    "smote_2_X = df_resample_train.drop('decision_numeric', axis =1).to_numpy()\n",
    "\n",
    "# # FIT\n",
    "xgb_smotenc = XGBClassifier(num_classes = 3, random_state = 12)\n",
    "# # # preds are gpa, lsat, urm, work_experience, \n",
    "xgb_smotenc.fit(smote_2_X, smote_2_y)\n",
    "\n",
    "test_y = cycle17_test['decision_numeric'].to_numpy()\n",
    "test_x = cycle17_test.drop(['decision_numeric', 'cycleid'], axis = 1).to_numpy()\n",
    "\n",
    "f1_score_smotenc = f1_score(test_y, xgb_smotenc.predict(test_x), average = 'micro')\n",
    "log_loss_smotenc = log_loss(test_y, xgb_smotenc.predict_proba(test_x))\n",
    "\n",
    "f1_score_list.append(f1_score_smotenc)\n",
    "log_loss_list.append(log_loss_smotenc)\n",
    "\n",
    "print(f1_score_smotenc)\n",
    "print(log_loss_smotenc)"
   ]
  },
  {
   "cell_type": "code",
   "execution_count": 8,
   "metadata": {},
   "outputs": [
    {
     "name": "stdout",
     "output_type": "stream",
     "text": [
      "0.639344262295082\n",
      "0.9800577321830282\n"
     ]
    }
   ],
   "source": [
    "#smotenc on whole thing\n",
    "smote_2_y = df_resample_train[['decision_numeric']]\n",
    "\n",
    "samp_dict_2 = {}\n",
    "for cycle_id_smote in np.unique(smote_2_y):\n",
    "    samp_dict_2[cycle_id_smote] = np.max(smote_2_y['decision_numeric'].value_counts())\n",
    "oversample_2 = SMOTENC(sampling_strategy = samp_dict_2, categorical_features = [2,3])\n",
    "\n",
    "\n",
    "smote_2_y = smote_2_y.decision_numeric\n",
    "\n",
    "X_fin, y_fin = oversample_2.fit_resample(smote_2_X,smote_2_y)\n",
    "\n",
    "xgb_school = XGBClassifier(num_classes = 3, random_state = 12)\n",
    "# preds are gpa, lsat, urm, work_experience, \n",
    "xgb_school.fit(X_fin, y_fin)\n",
    "\n",
    "f1_score_final = f1_score(test_y, xgb_school.predict(test_x), average = 'micro')\n",
    "log_loss_final = log_loss(test_y, xgb_school.predict_proba(test_x))\n",
    "\n",
    "f1_score_list.append(f1_score_final)\n",
    "log_loss_list.append(log_loss_final)\n",
    "\n",
    "print(f1_score_final)\n",
    "print(log_loss_final)"
   ]
  },
  {
   "cell_type": "code",
   "execution_count": 9,
   "metadata": {},
   "outputs": [
    {
     "data": {
      "text/plain": [
       "[0.6229508196721312,\n",
       " 0.639344262295082,\n",
       " 0.6065573770491803,\n",
       " 0.6229508196721312,\n",
       " 0.639344262295082]"
      ]
     },
     "execution_count": 9,
     "metadata": {},
     "output_type": "execute_result"
    }
   ],
   "source": [
    "import matplotlib.pyplot as plt\n",
    "f1_score_list"
   ]
  },
  {
   "cell_type": "code",
   "execution_count": 10,
   "metadata": {},
   "outputs": [
    {
     "data": {
      "text/plain": [
       "[1.0031850252025685,\n",
       " 1.0319778619669988,\n",
       " 1.041658621479864,\n",
       " 1.045362403914027,\n",
       " 0.9800577321830282]"
      ]
     },
     "execution_count": 10,
     "metadata": {},
     "output_type": "execute_result"
    }
   ],
   "source": [
    "log_loss_list"
   ]
  },
  {
   "cell_type": "code",
   "execution_count": 11,
   "metadata": {},
   "outputs": [],
   "source": [
    "x_labels = ['Baseline', 'Duplicate', 'SMOTE', 'SMOTENC', 'SMOTENC twice']"
   ]
  },
  {
   "cell_type": "code",
   "execution_count": 12,
   "metadata": {},
   "outputs": [
    {
     "data": {
      "text/html": [
       "<div>\n",
       "<style scoped>\n",
       "    .dataframe tbody tr th:only-of-type {\n",
       "        vertical-align: middle;\n",
       "    }\n",
       "\n",
       "    .dataframe tbody tr th {\n",
       "        vertical-align: top;\n",
       "    }\n",
       "\n",
       "    .dataframe thead th {\n",
       "        text-align: right;\n",
       "    }\n",
       "</style>\n",
       "<table border=\"1\" class=\"dataframe\">\n",
       "  <thead>\n",
       "    <tr style=\"text-align: right;\">\n",
       "      <th></th>\n",
       "      <th>label</th>\n",
       "      <th>f1 score</th>\n",
       "      <th>log loss</th>\n",
       "    </tr>\n",
       "  </thead>\n",
       "  <tbody>\n",
       "    <tr>\n",
       "      <th>0</th>\n",
       "      <td>Baseline</td>\n",
       "      <td>0.622951</td>\n",
       "      <td>1.003185</td>\n",
       "    </tr>\n",
       "    <tr>\n",
       "      <th>1</th>\n",
       "      <td>Duplicate</td>\n",
       "      <td>0.639344</td>\n",
       "      <td>1.031978</td>\n",
       "    </tr>\n",
       "    <tr>\n",
       "      <th>2</th>\n",
       "      <td>SMOTE</td>\n",
       "      <td>0.606557</td>\n",
       "      <td>1.041659</td>\n",
       "    </tr>\n",
       "    <tr>\n",
       "      <th>3</th>\n",
       "      <td>SMOTENC</td>\n",
       "      <td>0.622951</td>\n",
       "      <td>1.045362</td>\n",
       "    </tr>\n",
       "    <tr>\n",
       "      <th>4</th>\n",
       "      <td>SMOTENC twice</td>\n",
       "      <td>0.639344</td>\n",
       "      <td>0.980058</td>\n",
       "    </tr>\n",
       "  </tbody>\n",
       "</table>\n",
       "</div>"
      ],
      "text/plain": [
       "           label  f1 score  log loss\n",
       "0       Baseline  0.622951  1.003185\n",
       "1      Duplicate  0.639344  1.031978\n",
       "2          SMOTE  0.606557  1.041659\n",
       "3        SMOTENC  0.622951  1.045362\n",
       "4  SMOTENC twice  0.639344  0.980058"
      ]
     },
     "execution_count": 12,
     "metadata": {},
     "output_type": "execute_result"
    }
   ],
   "source": [
    "fin_df = df1 = pd.DataFrame(zip(x_labels, f1_score_list, log_loss_list), columns=[\"label\", \"f1 score\", \"log loss\"])\n",
    "fin_df"
   ]
  },
  {
   "cell_type": "code",
   "execution_count": 13,
   "metadata": {},
   "outputs": [
    {
     "data": {
      "text/html": [
       "<div>\n",
       "<style scoped>\n",
       "    .dataframe tbody tr th:only-of-type {\n",
       "        vertical-align: middle;\n",
       "    }\n",
       "\n",
       "    .dataframe tbody tr th {\n",
       "        vertical-align: top;\n",
       "    }\n",
       "\n",
       "    .dataframe thead th {\n",
       "        text-align: right;\n",
       "    }\n",
       "</style>\n",
       "<table border=\"1\" class=\"dataframe\">\n",
       "  <thead>\n",
       "    <tr style=\"text-align: right;\">\n",
       "      <th></th>\n",
       "      <th>label</th>\n",
       "      <th>score</th>\n",
       "      <th>score type</th>\n",
       "    </tr>\n",
       "  </thead>\n",
       "  <tbody>\n",
       "    <tr>\n",
       "      <th>0</th>\n",
       "      <td>Baseline</td>\n",
       "      <td>0.622951</td>\n",
       "      <td>f1 score</td>\n",
       "    </tr>\n",
       "    <tr>\n",
       "      <th>1</th>\n",
       "      <td>Duplicate</td>\n",
       "      <td>0.639344</td>\n",
       "      <td>f1 score</td>\n",
       "    </tr>\n",
       "    <tr>\n",
       "      <th>2</th>\n",
       "      <td>SMOTE</td>\n",
       "      <td>0.606557</td>\n",
       "      <td>f1 score</td>\n",
       "    </tr>\n",
       "    <tr>\n",
       "      <th>3</th>\n",
       "      <td>SMOTENC</td>\n",
       "      <td>0.622951</td>\n",
       "      <td>f1 score</td>\n",
       "    </tr>\n",
       "    <tr>\n",
       "      <th>4</th>\n",
       "      <td>SMOTENC twice</td>\n",
       "      <td>0.639344</td>\n",
       "      <td>f1 score</td>\n",
       "    </tr>\n",
       "    <tr>\n",
       "      <th>5</th>\n",
       "      <td>Baseline</td>\n",
       "      <td>1.003185</td>\n",
       "      <td>log loss</td>\n",
       "    </tr>\n",
       "    <tr>\n",
       "      <th>6</th>\n",
       "      <td>Duplicate</td>\n",
       "      <td>1.031978</td>\n",
       "      <td>log loss</td>\n",
       "    </tr>\n",
       "    <tr>\n",
       "      <th>7</th>\n",
       "      <td>SMOTE</td>\n",
       "      <td>1.041659</td>\n",
       "      <td>log loss</td>\n",
       "    </tr>\n",
       "    <tr>\n",
       "      <th>8</th>\n",
       "      <td>SMOTENC</td>\n",
       "      <td>1.045362</td>\n",
       "      <td>log loss</td>\n",
       "    </tr>\n",
       "    <tr>\n",
       "      <th>9</th>\n",
       "      <td>SMOTENC twice</td>\n",
       "      <td>0.980058</td>\n",
       "      <td>log loss</td>\n",
       "    </tr>\n",
       "  </tbody>\n",
       "</table>\n",
       "</div>"
      ],
      "text/plain": [
       "           label     score score type\n",
       "0       Baseline  0.622951   f1 score\n",
       "1      Duplicate  0.639344   f1 score\n",
       "2          SMOTE  0.606557   f1 score\n",
       "3        SMOTENC  0.622951   f1 score\n",
       "4  SMOTENC twice  0.639344   f1 score\n",
       "5       Baseline  1.003185   log loss\n",
       "6      Duplicate  1.031978   log loss\n",
       "7          SMOTE  1.041659   log loss\n",
       "8        SMOTENC  1.045362   log loss\n",
       "9  SMOTENC twice  0.980058   log loss"
      ]
     },
     "execution_count": 13,
     "metadata": {},
     "output_type": "execute_result"
    }
   ],
   "source": [
    "score_type_f1 = ['f1 score', 'f1 score', 'f1 score', 'f1 score', 'f1 score']\n",
    "score_type_log = ['log loss', 'log loss', 'log loss', 'log loss', 'log loss']\n",
    "\n",
    "df1 = pd.DataFrame(zip(x_labels, f1_score_list, score_type_f1), columns=[\"label\", \"score\", \"score type\"])\n",
    "df2 = pd.DataFrame(zip(x_labels, log_loss_list, score_type_log), columns=[\"label\", \"score\", \"score type\"])\n",
    "\n",
    "df = pd.concat([df1,df2],ignore_index=True)\n",
    "df"
   ]
  },
  {
   "cell_type": "code",
   "execution_count": 14,
   "metadata": {},
   "outputs": [
    {
     "data": {
      "image/png": "[encoded data removed]",
      "text/plain": [
       "<Figure size 720x432 with 1 Axes>"
      ]
     },
     "metadata": {
      "needs_background": "light"
     },
     "output_type": "display_data"
    }
   ],
   "source": [
    "plt.figure(figsize=(10, 6))\n",
    "\n",
    "sns.barplot(x=\"label\", hue=\"score type\", y=\"score\", data=df)\n",
    "plt.show()"
   ]
  },
  {
   "cell_type": "code",
   "execution_count": null,
   "metadata": {},
   "outputs": [],
   "source": []
  }
 ],
 "metadata": {
  "kernelspec": {
   "display_name": "Python 3",
   "language": "python",
   "name": "python3"
  },
  "language_info": {
   "codemirror_mode": {
    "name": "ipython",
    "version": 3
   },
   "file_extension": ".py",
   "mimetype": "text/x-python",
   "name": "python",
   "nbconvert_exporter": "python",
   "pygments_lexer": "ipython3",
   "version": "3.7.3"
  }
 },
 "nbformat": 4,
 "nbformat_minor": 4
}
